{
 "cells": [
  {
   "cell_type": "code",
   "execution_count": 1,
   "id": "afdf6b6d-2ef5-435f-afdf-4a1973e2409d",
   "metadata": {},
   "outputs": [],
   "source": [
    "from huggingface_hub import snapshot_download"
   ]
  },
  {
   "cell_type": "code",
   "execution_count": 7,
   "id": "c779e727-6611-4873-a683-dea89281ef4e",
   "metadata": {},
   "outputs": [],
   "source": [
    "local_dir = \"../cat\""
   ]
  },
  {
   "cell_type": "code",
   "execution_count": 8,
   "id": "a3d2529d-0e20-4647-8213-817a64ffdf57",
   "metadata": {},
   "outputs": [
    {
     "data": {
      "application/vnd.jupyter.widget-view+json": {
       "model_id": "b34b7cd3912f4a76b1d54c9a909e49bf",
       "version_major": 2,
       "version_minor": 0
      },
      "text/plain": [
       "Fetching 6 files:   0%|          | 0/6 [00:00<?, ?it/s]"
      ]
     },
     "metadata": {},
     "output_type": "display_data"
    },
    {
     "data": {
      "text/plain": [
       "'/home/peterushton/diffusers/examples/textual_inversion/cat'"
      ]
     },
     "execution_count": 8,
     "metadata": {},
     "output_type": "execute_result"
    }
   ],
   "source": [
    "snapshot_download(\n",
    "    \"diffusers/cat_toy_example\", local_dir=local_dir, repo_type=\"dataset\", ignore_patterns=\".gitattributes\"\n",
    ")"
   ]
  },
  {
   "cell_type": "code",
   "execution_count": 6,
   "id": "d2eea4ba-14a2-43f6-a015-fa0b3c0489c9",
   "metadata": {},
   "outputs": [
    {
     "name": "stdout",
     "output_type": "stream",
     "text": [
      "The following values were not passed to `accelerate launch` and had defaults used instead:\n",
      "\t`--num_processes` was set to a value of `1`\n",
      "\t`--num_machines` was set to a value of `1`\n",
      "\t`--mixed_precision` was set to a value of `'no'`\n",
      "\t`--dynamo_backend` was set to a value of `'no'`\n",
      "To avoid this warning pass in values for each of the problematic parameters or run `accelerate config`.\n",
      "/opt/conda/envs/text_inv/bin/python3.11: can't open file '/home/peterushton/diffusers/examples/textual_inversion/notebooks/textual_inversion.py': [Errno 2] No such file or directory\n",
      "Traceback (most recent call last):\n",
      "  File \"/opt/conda/envs/text_inv/bin/accelerate\", line 8, in <module>\n",
      "    sys.exit(main())\n",
      "             ^^^^^^\n",
      "  File \"/opt/conda/envs/text_inv/lib/python3.11/site-packages/accelerate/commands/accelerate_cli.py\", line 47, in main\n",
      "    args.func(args)\n",
      "  File \"/opt/conda/envs/text_inv/lib/python3.11/site-packages/accelerate/commands/launch.py\", line 1017, in launch_command\n",
      "    simple_launcher(args)\n",
      "  File \"/opt/conda/envs/text_inv/lib/python3.11/site-packages/accelerate/commands/launch.py\", line 637, in simple_launcher\n",
      "    raise subprocess.CalledProcessError(returncode=process.returncode, cmd=cmd)\n",
      "subprocess.CalledProcessError: Command '['/opt/conda/envs/text_inv/bin/python3.11', 'textual_inversion.py', '--pretrained_model_name_or_path=runwayml/stable-diffusion-v1-5', '--train_data_dir=./cat', '--learnable_property=object', '--placeholder_token=<cat-toy>', '--initializer_token=toy', '--resolution=512', '--train_batch_size=1', '--gradient_accumulation_steps=4', '--max_train_steps=3000', '--learning_rate=5.0e-04', '--scale_lr', '--lr_scheduler=constant', '--lr_warmup_steps=0', '--output_dir=textual_inversion_cat', '--push_to_hub']' returned non-zero exit status 2.\n"
     ]
    }
   ],
   "source": [
    "!sh ../runscript.sh"
   ]
  },
  {
   "cell_type": "code",
   "execution_count": 10,
   "id": "c82c0428-07e9-4617-9c86-25c6c48d225c",
   "metadata": {},
   "outputs": [
    {
     "data": {
      "application/vnd.jupyter.widget-view+json": {
       "model_id": "eda0c522f88741d1adfd25d6f84c00af",
       "version_major": 2,
       "version_minor": 0
      },
      "text/plain": [
       "Fetching 5 files:   0%|          | 0/5 [00:00<?, ?it/s]"
      ]
     },
     "metadata": {},
     "output_type": "display_data"
    },
    {
     "data": {
      "application/vnd.jupyter.widget-view+json": {
       "model_id": "e2c756e51de04437ba6bed2c99a56118",
       "version_major": 2,
       "version_minor": 0
      },
      "text/plain": [
       "IMG_0383.jpeg:   0%|          | 0.00/256k [00:00<?, ?B/s]"
      ]
     },
     "metadata": {},
     "output_type": "display_data"
    },
    {
     "data": {
      "application/vnd.jupyter.widget-view+json": {
       "model_id": "ae83b1ba333c48e8a49e562e7d7c0551",
       "version_major": 2,
       "version_minor": 0
      },
      "text/plain": [
       "IMG_5328.jpeg:   0%|          | 0.00/292k [00:00<?, ?B/s]"
      ]
     },
     "metadata": {},
     "output_type": "display_data"
    },
    {
     "data": {
      "application/vnd.jupyter.widget-view+json": {
       "model_id": "ba6463fbb69b4686821fe91e0f7aee4b",
       "version_major": 2,
       "version_minor": 0
      },
      "text/plain": [
       "myra1.jpeg:   0%|          | 0.00/783k [00:00<?, ?B/s]"
      ]
     },
     "metadata": {},
     "output_type": "display_data"
    },
    {
     "data": {
      "application/vnd.jupyter.widget-view+json": {
       "model_id": "d866a9fb11654fe0861a538a04da391a",
       "version_major": 2,
       "version_minor": 0
      },
      "text/plain": [
       "IMG_2785.jpeg:   0%|          | 0.00/381k [00:00<?, ?B/s]"
      ]
     },
     "metadata": {},
     "output_type": "display_data"
    },
    {
     "data": {
      "application/vnd.jupyter.widget-view+json": {
       "model_id": "20f79378d15744c2ac7c92f83f7120bb",
       "version_major": 2,
       "version_minor": 0
      },
      "text/plain": [
       "IMG_0062.jpeg:   0%|          | 0.00/2.47M [00:00<?, ?B/s]"
      ]
     },
     "metadata": {},
     "output_type": "display_data"
    },
    {
     "data": {
      "text/plain": [
       "'/home/peterushton/diffusers/examples/textual_inversion/notebooks/data'"
      ]
     },
     "execution_count": 10,
     "metadata": {},
     "output_type": "execute_result"
    }
   ],
   "source": [
    "snapshot_download(\n",
    "    \"myradeng/myra-dreambooth\", local_dir=\"./data\",  repo_type=\"dataset\", ignore_patterns=\".gitattributes\"\n",
    ")"
   ]
  },
  {
   "cell_type": "code",
   "execution_count": null,
   "id": "71e8d8bd-3fb0-4a7d-af88-7b2b0d9d3300",
   "metadata": {},
   "outputs": [],
   "source": []
  }
 ],
 "metadata": {
  "kernelspec": {
   "display_name": "text_inv",
   "language": "python",
   "name": "text_inv"
  },
  "language_info": {
   "codemirror_mode": {
    "name": "ipython",
    "version": 3
   },
   "file_extension": ".py",
   "mimetype": "text/x-python",
   "name": "python",
   "nbconvert_exporter": "python",
   "pygments_lexer": "ipython3",
   "version": "3.11.6"
  }
 },
 "nbformat": 4,
 "nbformat_minor": 5
}
